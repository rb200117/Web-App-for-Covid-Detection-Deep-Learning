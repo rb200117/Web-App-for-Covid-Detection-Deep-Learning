{
 "cells": [
  {
   "cell_type": "code",
   "execution_count": 1,
   "metadata": {},
   "outputs": [],
   "source": [
    "import os\n",
    "train_dir = os.path.join('/Users/rakshitbatra/Desktop/Covid-19_Detection/chest_xray/train')\n",
    "test_dir = os.path.join('/Users/rakshitbatra/Desktop/Covid-19_Detection/chest_xray/test')"
   ]
  },
  {
   "cell_type": "code",
   "execution_count": 2,
   "metadata": {},
   "outputs": [],
   "source": [
    "from tensorflow.keras.preprocessing.image import ImageDataGenerator\n",
    "\n",
    "def image_gen_w_aug(train_parent_directory, test_parent_directory):\n",
    "    \n",
    "    train_datagen = ImageDataGenerator(rescale=1/255,\n",
    "                                      rotation_range = 30,  \n",
    "                                      zoom_range = 0.2, \n",
    "                                      shear_range = 0.2,\n",
    "                                      width_shift_range=0.1,  \n",
    "                                      height_shift_range=0.1,\n",
    "                                      validation_split = 0.15)\n",
    "    \n",
    "  \n",
    "    \n",
    "    test_datagen = ImageDataGenerator(rescale=1/255)\n",
    "    \n",
    "    train_generator =          train_datagen.flow_from_directory(train_parent_directory,\n",
    "                                  target_size = (75,75),\n",
    "                                  batch_size = 214,\n",
    "                                  class_mode = 'categorical',\n",
    "                                  subset='training')\n",
    "    \n",
    "    val_generator = train_datagen.flow_from_directory(train_parent_directory,\n",
    "                                  target_size = (75,75),\n",
    "                                  batch_size = 37,\n",
    "                                  class_mode = 'categorical',\n",
    "                                  subset = 'validation')\n",
    "    \n",
    "    test_generator = test_datagen.flow_from_directory(test_parent_directory,\n",
    "                                 target_size=(75,75),\n",
    "                                 batch_size = 37,\n",
    "                                 class_mode = 'categorical')\n",
    "    return train_generator, val_generator, test_generator"
   ]
  },
  {
   "cell_type": "code",
   "execution_count": 3,
   "metadata": {},
   "outputs": [
    {
     "name": "stdout",
     "output_type": "stream",
     "text": [
      "Found 4691 images belonging to 2 classes.\n",
      "Found 827 images belonging to 2 classes.\n",
      "Found 820 images belonging to 2 classes.\n"
     ]
    }
   ],
   "source": [
    "train_generator, validation_generator, test_generator = image_gen_w_aug(train_dir, test_dir)"
   ]
  },
  {
   "cell_type": "code",
   "execution_count": 22,
   "metadata": {},
   "outputs": [
    {
     "ename": "NameError",
     "evalue": "name 'Model' is not defined",
     "output_type": "error",
     "traceback": [
      "\u001b[0;31m---------------------------------------------------------------------------\u001b[0m",
      "\u001b[0;31mNameError\u001b[0m                                 Traceback (most recent call last)",
      "\u001b[0;32m<ipython-input-22-db913c75daa5>\u001b[0m in \u001b[0;36m<module>\u001b[0;34m\u001b[0m\n\u001b[1;32m     22\u001b[0m \u001b[0mlast_layer\u001b[0m \u001b[0;34m=\u001b[0m \u001b[0mpre_trained_model\u001b[0m\u001b[0;34m.\u001b[0m\u001b[0mget_layer\u001b[0m\u001b[0;34m(\u001b[0m\u001b[0;34m'mixed5'\u001b[0m\u001b[0;34m)\u001b[0m\u001b[0;34m\u001b[0m\u001b[0;34m\u001b[0m\u001b[0m\n\u001b[1;32m     23\u001b[0m \u001b[0mlast_output\u001b[0m \u001b[0;34m=\u001b[0m \u001b[0mlast_layer\u001b[0m\u001b[0;34m.\u001b[0m\u001b[0moutput\u001b[0m\u001b[0;34m\u001b[0m\u001b[0;34m\u001b[0m\u001b[0m\n\u001b[0;32m---> 24\u001b[0;31m \u001b[0mmodel_TL\u001b[0m \u001b[0;34m=\u001b[0m \u001b[0mmodel_output_for_TL\u001b[0m\u001b[0;34m(\u001b[0m\u001b[0mpre_trained_model\u001b[0m\u001b[0;34m,\u001b[0m \u001b[0mlast_output\u001b[0m\u001b[0;34m)\u001b[0m\u001b[0;34m\u001b[0m\u001b[0;34m\u001b[0m\u001b[0m\n\u001b[0m",
      "\u001b[0;32m<ipython-input-22-db913c75daa5>\u001b[0m in \u001b[0;36mmodel_output_for_TL\u001b[0;34m(pre_trained_model, last_output)\u001b[0m\n\u001b[1;32m     12\u001b[0m     \u001b[0mx\u001b[0m \u001b[0;34m=\u001b[0m \u001b[0mDense\u001b[0m\u001b[0;34m(\u001b[0m\u001b[0;36m3\u001b[0m\u001b[0;34m,\u001b[0m \u001b[0mactivation\u001b[0m\u001b[0;34m=\u001b[0m\u001b[0;34m'softmax'\u001b[0m\u001b[0;34m)\u001b[0m\u001b[0;34m(\u001b[0m\u001b[0mx\u001b[0m\u001b[0;34m)\u001b[0m\u001b[0;34m\u001b[0m\u001b[0;34m\u001b[0m\u001b[0m\n\u001b[1;32m     13\u001b[0m \u001b[0;34m\u001b[0m\u001b[0m\n\u001b[0;32m---> 14\u001b[0;31m     \u001b[0mmodel\u001b[0m \u001b[0;34m=\u001b[0m \u001b[0mModel\u001b[0m\u001b[0;34m(\u001b[0m\u001b[0mpre_trained_model\u001b[0m\u001b[0;34m.\u001b[0m\u001b[0minput\u001b[0m\u001b[0;34m,\u001b[0m \u001b[0mx\u001b[0m\u001b[0;34m)\u001b[0m\u001b[0;34m\u001b[0m\u001b[0;34m\u001b[0m\u001b[0m\n\u001b[0m\u001b[1;32m     15\u001b[0m \u001b[0;34m\u001b[0m\u001b[0m\n\u001b[1;32m     16\u001b[0m     \u001b[0;32mreturn\u001b[0m \u001b[0mmodel\u001b[0m\u001b[0;34m\u001b[0m\u001b[0;34m\u001b[0m\u001b[0m\n",
      "\u001b[0;31mNameError\u001b[0m: name 'Model' is not defined"
     ]
    }
   ],
   "source": [
    "from tensorflow.keras.applications.inception_v3 import InceptionV3\n",
    "from tensorflow.keras.layers import Flatten, Dense, Dropout\n",
    "import tensorflow.keras as keras\n",
    "def model_output_for_TL (pre_trained_model, last_output):    \n",
    "    x = Flatten()(last_output)\n",
    "    \n",
    "    # Dense hidden layer\n",
    "    x = Dense(512, activation='relu')(x)\n",
    "    x = Dropout(0.2)(x)\n",
    "    \n",
    "    # Output neuron. \n",
    "    x = Dense(3, activation='softmax')(x)\n",
    "    \n",
    "    model = Model(pre_trained_model.input, x)\n",
    "    \n",
    "    return model\n",
    "pre_trained_model = InceptionV3(input_shape = (75, 75, 3), \n",
    "                                include_top = False, \n",
    "                                weights = 'imagenet')\n",
    "for layer in pre_trained_model.layers:\n",
    "  layer.trainable = False\n",
    "last_layer = pre_trained_model.get_layer('mixed5')\n",
    "last_output = last_layer.output\n",
    "model_TL = model_output_for_TL(pre_trained_model, last_output)"
   ]
  },
  {
   "cell_type": "code",
   "execution_count": null,
   "metadata": {},
   "outputs": [],
   "source": []
  }
 ],
 "metadata": {
  "kernelspec": {
   "display_name": "Python 3",
   "language": "python",
   "name": "python3"
  },
  "language_info": {
   "codemirror_mode": {
    "name": "ipython",
    "version": 3
   },
   "file_extension": ".py",
   "mimetype": "text/x-python",
   "name": "python",
   "nbconvert_exporter": "python",
   "pygments_lexer": "ipython3",
   "version": "3.8.8"
  }
 },
 "nbformat": 4,
 "nbformat_minor": 4
}
